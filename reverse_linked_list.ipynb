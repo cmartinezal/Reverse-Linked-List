{
 "cells": [
  {
   "attachments": {},
   "cell_type": "markdown",
   "metadata": {},
   "source": [
    "# Reverse Linked List\n"
   ]
  },
  {
   "cell_type": "code",
   "execution_count": null,
   "metadata": {},
   "outputs": [
    {
     "name": "stdout",
     "output_type": "stream",
     "text": [
      "Input = [1,2,3,4,5]\n",
      "Iterative Output = [5,4,3,2,1]\n",
      "Recursive Output = [5,4,3,2,1]\n",
      "Input = [1,2]\n",
      "Iterative Output = [2,1]\n",
      "Recursive Output = [2,1]\n",
      "Input = []\n",
      "Iterative Output = []\n",
      "Recursive Output = []\n"
     ]
    }
   ],
   "source": [
    "class Node:\n",
    "    def __init__(self, val=0, next=None):\n",
    "        self.val = val\n",
    "        self.next = next\n",
    "    \n",
    "    def display(self):\n",
    "        while self:\n",
    "            sep = ',' if self.next else ''\n",
    "            val = self.val if self.val else ''\n",
    "            print(val, end=sep)\n",
    "            self = self.next\n",
    "\n",
    "class Solution:\n",
    "    #Iterative approach\n",
    "    def reverse_linked_list(self, head: Node) -> Node:\n",
    "        if not head:\n",
    "            return head\n",
    "        prev = None\n",
    "        while head:\n",
    "            next = head.next\n",
    "            head.next = prev\n",
    "            prev = head\n",
    "            head = next\n",
    "        return prev\n",
    "\n",
    "    #Recursive approach\n",
    "    def reverse_linked_list2(self, head: Node, prev: Node = None) -> Node:\n",
    "        if not head:\n",
    "            return prev\n",
    "        next = head.next\n",
    "        head.next = prev\n",
    "        return self.reverse_linked_list2(next, head)\n",
    "\n",
    "#Tests\n",
    "sol = Solution()\n",
    "\n",
    "#Case 1\n",
    "#Iterative\n",
    "head = Node(1)\n",
    "head.next = Node(2)\n",
    "head.next.next = Node(3)\n",
    "head.next.next.next = Node(4)\n",
    "head.next.next.next.next = Node(5)\n",
    "print(f'Input = [', end=\"\")\n",
    "head.display()\n",
    "print(']')\n",
    "output = sol.reverse_linked_list(head)\n",
    "print(f'Iterative Output = [', end=\"\")\n",
    "output.display()\n",
    "print(']')\n",
    "#Recursive\n",
    "head = Node(1)\n",
    "head.next = Node(2)\n",
    "head.next.next = Node(3)\n",
    "head.next.next.next = Node(4)\n",
    "head.next.next.next.next = Node(5)\n",
    "output = sol.reverse_linked_list2(head)\n",
    "print(f'Recursive Output = [', end=\"\")\n",
    "output.display()\n",
    "print(']')\n",
    "\n",
    "#Case 2\n",
    "#Iterative\n",
    "head = Node(1)\n",
    "head.next = Node(2)\n",
    "print(f'Input = [', end=\"\")\n",
    "head.display()\n",
    "print(']')\n",
    "output = sol.reverse_linked_list(head)\n",
    "print(f'Iterative Output = [', end=\"\")\n",
    "output.display()\n",
    "print(']')\n",
    "#Recursive\n",
    "head = Node(1)\n",
    "head.next = Node(2)\n",
    "output = sol.reverse_linked_list2(head)\n",
    "print(f'Recursive Output = [', end=\"\")\n",
    "output.display()\n",
    "print(']')\n",
    "\n",
    "#Case 3\n",
    "#Iterative\n",
    "head = Node(None)\n",
    "print(f'Input = [', end=\"\")\n",
    "head.display()\n",
    "print(']')\n",
    "output = sol.reverse_linked_list(head)\n",
    "print(f'Iterative Output = [', end=\"\")\n",
    "output.display()\n",
    "print(']')\n",
    "#Recursive\n",
    "head = Node(None)\n",
    "output = sol.reverse_linked_list2(head)\n",
    "print(f'Recursive Output = [', end=\"\")\n",
    "output.display()\n",
    "print(']')"
   ]
  },
  {
   "attachments": {},
   "cell_type": "markdown",
   "metadata": {},
   "source": [
    "# Time Complexity\n",
    "The time complexity to reverse the linked list is O(N), where 'N' is the total number of elements in Linked list provided.\n",
    "\n",
    "It is because we traverse through the sequence only once, and hence, the time complexity is linear in nature.\n",
    "\n",
    "#  Space Complexity\n",
    "The Space complexity of the above code is O(1) since we do not require additional space."
   ]
  }
 ],
 "metadata": {
  "kernelspec": {
   "display_name": "Python 3.6.7 64-bit",
   "language": "python",
   "name": "python3"
  },
  "language_info": {
   "codemirror_mode": {
    "name": "ipython",
    "version": 3
   },
   "file_extension": ".py",
   "mimetype": "text/x-python",
   "name": "python",
   "nbconvert_exporter": "python",
   "pygments_lexer": "ipython3",
   "version": "3.6.7"
  },
  "orig_nbformat": 4,
  "vscode": {
   "interpreter": {
    "hash": "aee8b7b246df8f9039afb4144a1f6fd8d2ca17a180786b69acc140d282b71a49"
   }
  }
 },
 "nbformat": 4,
 "nbformat_minor": 2
}
