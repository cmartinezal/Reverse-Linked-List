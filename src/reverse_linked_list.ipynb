{
 "cells": [
  {
   "attachments": {},
   "cell_type": "markdown",
   "metadata": {},
   "source": [
    "# Reverse Linked List\n"
   ]
  },
  {
   "cell_type": "code",
   "execution_count": 3,
   "metadata": {},
   "outputs": [
    {
     "name": "stdout",
     "output_type": "stream",
     "text": [
      "Input = [1,2,3,4,5]\n",
      "Iterative Output = [5,4,3,2,1]\n",
      "Recursive Output = [5,4,3,2,1]\n",
      "Input = [1,2]\n",
      "Iterative Output = [2,1]\n",
      "Recursive Output = [2,1]\n",
      "Input = []\n",
      "Iterative Output = []\n",
      "Recursive Output = []\n"
     ]
    }
   ],
   "source": [
    "import tests.tests_reverse_linked_list as tests\n",
    "\n",
    "#Run Tests\n",
    "tests.run_tests()\n"
   ]
  },
  {
   "attachments": {},
   "cell_type": "markdown",
   "metadata": {},
   "source": [
    "# Time Complexity\n",
    "The time complexity to reverse the linked list is O(N), where 'N' is the total number of elements in Linked list provided.\n",
    "\n",
    "It is because we traverse through the sequence only once, and hence, the time complexity is linear in nature.\n",
    "\n",
    "#  Space Complexity\n",
    "The Space complexity of the above code is O(1) since we do not require additional space."
   ]
  }
 ],
 "metadata": {
  "kernelspec": {
   "display_name": "Python 3.6.7 64-bit",
   "language": "python",
   "name": "python3"
  },
  "language_info": {
   "codemirror_mode": {
    "name": "ipython",
    "version": 3
   },
   "file_extension": ".py",
   "mimetype": "text/x-python",
   "name": "python",
   "nbconvert_exporter": "python",
   "pygments_lexer": "ipython3",
   "version": "3.7.0"
  },
  "orig_nbformat": 4,
  "vscode": {
   "interpreter": {
    "hash": "aee8b7b246df8f9039afb4144a1f6fd8d2ca17a180786b69acc140d282b71a49"
   }
  }
 },
 "nbformat": 4,
 "nbformat_minor": 2
}
